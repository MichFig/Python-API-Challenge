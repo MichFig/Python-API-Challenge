{
 "cells": [
  {
   "cell_type": "markdown",
   "metadata": {},
   "source": [
    "## WeatherPy\n",
    "----\n",
    "\n",
    "#### Note\n",
    "* Instructions have been included for each segment. You do not have to follow them exactly, but they are included to help you think through the steps."
   ]
  },
  {
   "cell_type": "code",
   "execution_count": 1,
   "metadata": {},
   "outputs": [
    {
     "name": "stdout",
     "output_type": "stream",
     "text": [
      "Requirement already satisfied: citipy in c:\\users\\michelle\\anaconda3\\lib\\site-packages (0.0.5)\n",
      "Requirement already satisfied: kdtree>=0.12 in c:\\users\\michelle\\anaconda3\\lib\\site-packages (from citipy) (0.16)\n"
     ]
    }
   ],
   "source": [
    "!pip install citipy"
   ]
  },
  {
   "cell_type": "code",
   "execution_count": 2,
   "metadata": {
    "scrolled": true
   },
   "outputs": [],
   "source": [
    "# Dependencies and Setup\n",
    "import matplotlib.pyplot as plt\n",
    "import pandas as pd\n",
    "import numpy as np\n",
    "import requests\n",
    "import time\n",
    "from scipy.stats import linregress\n",
    "import logging\n",
    "import math\n",
    "\n",
    "# Import API key\n",
    "from api_keys import weather_api_key\n",
    "\n",
    "# Incorporated citipy to determine city based on latitude and longitude\n",
    "from citipy import citipy\n",
    "\n",
    "# Output File (CSV)\n",
    "output_data_file = \"cities.csv\"\n",
    "\n",
    "# Range of latitudes and longitudes\n",
    "lat_range = (-90, 90)\n",
    "lng_range = (-180, 180)\n",
    "\n"
   ]
  },
  {
   "cell_type": "markdown",
   "metadata": {},
   "source": [
    "## Generate Cities List"
   ]
  },
  {
   "cell_type": "code",
   "execution_count": 3,
   "metadata": {},
   "outputs": [
    {
     "data": {
      "text/plain": [
       "603"
      ]
     },
     "execution_count": 3,
     "metadata": {},
     "output_type": "execute_result"
    }
   ],
   "source": [
    "# List for holding lat_lngs and cities\n",
    "lat_lngs = []\n",
    "cities = []\n",
    "\n",
    "lat_lngs\n",
    "\n",
    "# Create a set of random lat and lng combinations\n",
    "lats = np.random.uniform(lat_range[0], lat_range[1], size=1500)\n",
    "lngs = np.random.uniform(lng_range[0], lng_range[1], size=1500)\n",
    "lat_lngs = zip(lats, lngs)\n",
    "\n",
    "# Identify nearest city for each lat, lng combination\n",
    "for lat_lng in lat_lngs:\n",
    "    city = citipy.nearest_city(lat_lng[0], lat_lng[1]).city_name\n",
    "    \n",
    "    # If the city is unique, then add it to a our cities list\n",
    "    if city not in cities:\n",
    "        cities.append(city)\n",
    "\n",
    "# Print the city count to confirm sufficient count\n",
    "len(cities)"
   ]
  },
  {
   "cell_type": "markdown",
   "metadata": {},
   "source": [
    "### Perform API Calls\n",
    "* Perform a weather check on each city using a series of successive API calls.\n",
    "* Include a print log of each city as it's being processed (with the city number and city name).\n"
   ]
  },
  {
   "cell_type": "code",
   "execution_count": 4,
   "metadata": {},
   "outputs": [],
   "source": [
    "base_url = \"http://api.openweathermap.org/data/2.5/weather?\"\n",
    "city = cities\n",
    "units = imperial\n",
    "\n",
    "query_url = f\"{base_url}appid={weather_api_key}&units{units}&q={city}\"\n",
    "\n",
    "# Get weather data\n",
    "#weather_response = requests.get(query_url).json()\n"
   ]
  },
  {
   "cell_type": "code",
   "execution_count": 5,
   "metadata": {},
   "outputs": [
    {
     "name": "stdout",
     "output_type": "stream",
     "text": [
      "found la palma&[city id]\n",
      "found mar del plata&[city id]\n",
      "found east london&[city id]\n",
      "found eyemouth&[city id]\n",
      "found lagoa&[city id]\n",
      "found albany&[city id]\n",
      "found te anau&[city id]\n",
      "found puerto ayora&[city id]\n",
      "found castro&[city id]\n",
      "found ushuaia&[city id]\n",
      "found butaritari&[city id]\n",
      "found thompson&[city id]\n",
      "found nanortalik&[city id]\n",
      "found grand gaube&[city id]\n",
      "found nikolskoye&[city id]\n",
      "found malanje&[city id]\n",
      "found avarua&[city id]\n",
      "found roebourne&[city id]\n",
      "found jamestown&[city id]\n",
      "found ribeira grande&[city id]\n",
      "found yellowknife&[city id]\n",
      "found umm lajj&[city id]\n",
      "found luan&[city id]\n",
      "found aden&[city id]\n",
      "found illoqqortoormiut&[city id]\n",
      "No City Data Found for illoqqortoormiut\n",
      "found rikitea&[city id]\n",
      "found mahebourg&[city id]\n",
      "found faanui&[city id]\n",
      "found taolanaro&[city id]\n",
      "No City Data Found for taolanaro\n",
      "found privolzhskiy&[city id]\n",
      "found lompoc&[city id]\n",
      "found provideniya&[city id]\n",
      "found cape town&[city id]\n",
      "found hilo&[city id]\n",
      "found punta arenas&[city id]\n",
      "found tuktoyaktuk&[city id]\n",
      "found mataura&[city id]\n",
      "found yar-sale&[city id]\n",
      "found koshurnikovo&[city id]\n",
      "found kapaa&[city id]\n",
      "found talnakh&[city id]\n",
      "found rio tercero&[city id]\n",
      "found alibag&[city id]\n",
      "found gayny&[city id]\n",
      "found kodiak&[city id]\n",
      "found attawapiskat&[city id]\n",
      "No City Data Found for attawapiskat\n",
      "found hithadhoo&[city id]\n",
      "found belushya guba&[city id]\n",
      "No City Data Found for belushya guba\n",
      "found chuy&[city id]\n",
      "found mys shmidta&[city id]\n",
      "No City Data Found for mys shmidta\n",
      "found dunedin&[city id]\n",
      "found chokwe&[city id]\n",
      "found tsihombe&[city id]\n",
      "No City Data Found for tsihombe\n",
      "found banes&[city id]\n",
      "found new norfolk&[city id]\n",
      "found bluff&[city id]\n",
      "found tiksi&[city id]\n",
      "found mazsalaca&[city id]\n",
      "found barentsburg&[city id]\n",
      "No City Data Found for barentsburg\n",
      "found mugan&[city id]\n",
      "found haines junction&[city id]\n",
      "found bredasdorp&[city id]\n",
      "found qaqortoq&[city id]\n",
      "found cayenne&[city id]\n",
      "found saldanha&[city id]\n",
      "found arraial do cabo&[city id]\n",
      "found akdepe&[city id]\n",
      "found port moresby&[city id]\n",
      "found qaanaaq&[city id]\n",
      "found anloga&[city id]\n",
      "found mahaicony&[city id]\n",
      "No City Data Found for mahaicony\n",
      "found sataua&[city id]\n",
      "No City Data Found for sataua\n",
      "found riviere-au-renard&[city id]\n",
      "found samusu&[city id]\n",
      "No City Data Found for samusu\n",
      "found camopi&[city id]\n",
      "found tasiilaq&[city id]\n",
      "found khatanga&[city id]\n",
      "found castelo branco&[city id]\n",
      "found porto walter&[city id]\n",
      "found canutama&[city id]\n",
      "found atuona&[city id]\n",
      "found karratha&[city id]\n",
      "found san vicente&[city id]\n",
      "found ponta do sol&[city id]\n",
      "found vaitupu&[city id]\n",
      "No City Data Found for vaitupu\n",
      "found vaini&[city id]\n",
      "found wembley&[city id]\n",
      "found karkaralinsk&[city id]\n",
      "No City Data Found for karkaralinsk\n",
      "found bundaberg&[city id]\n",
      "found samarai&[city id]\n",
      "found sinjai&[city id]\n",
      "found sao filipe&[city id]\n",
      "found canmore&[city id]\n",
      "found mazatlan&[city id]\n",
      "found digby&[city id]\n",
      "found cabo san lucas&[city id]\n",
      "found orotukan&[city id]\n",
      "found leningradskiy&[city id]\n",
      "found ville-marie&[city id]\n",
      "found stony plain&[city id]\n",
      "found clyde river&[city id]\n",
      "found constitucion&[city id]\n",
      "found dingle&[city id]\n",
      "found yaring&[city id]\n",
      "found tayoltita&[city id]\n",
      "found busselton&[city id]\n",
      "found portree&[city id]\n",
      "found vaovai&[city id]\n",
      "No City Data Found for vaovai\n",
      "found hermanus&[city id]\n",
      "found bathsheba&[city id]\n",
      "found vila franca do campo&[city id]\n",
      "found pisco&[city id]\n",
      "found bam&[city id]\n",
      "found hami&[city id]\n",
      "found semey&[city id]\n",
      "found hobart&[city id]\n",
      "found kenai&[city id]\n",
      "found floro&[city id]\n",
      "found saint-philippe&[city id]\n",
      "found saleaula&[city id]\n",
      "No City Data Found for saleaula\n",
      "found ughelli&[city id]\n",
      "found quelimane&[city id]\n",
      "found pipar&[city id]\n",
      "found lorengau&[city id]\n",
      "found america dourada&[city id]\n",
      "found hatillo&[city id]\n",
      "found siavonga&[city id]\n",
      "found trincomalee&[city id]\n",
      "found diego de almagro&[city id]\n",
      "found goderich&[city id]\n",
      "found port dover&[city id]\n",
      "found skalistyy&[city id]\n",
      "No City Data Found for skalistyy\n",
      "found port alfred&[city id]\n",
      "found qarqin&[city id]\n",
      "found tiarei&[city id]\n",
      "found nalut&[city id]\n",
      "found bengkulu&[city id]\n",
      "found taltal&[city id]\n",
      "found cumaribo&[city id]\n",
      "No City Data Found for cumaribo\n",
      "found marrakesh&[city id]\n",
      "found aranos&[city id]\n",
      "found pangody&[city id]\n",
      "found upernavik&[city id]\n",
      "found santa cruz de la palma&[city id]\n",
      "found matagami&[city id]\n",
      "found henties bay&[city id]\n",
      "found murray bridge&[city id]\n",
      "found suluq&[city id]\n",
      "found wahran&[city id]\n",
      "No City Data Found for wahran\n",
      "found lerwick&[city id]\n",
      "found hofn&[city id]\n",
      "found tura&[city id]\n",
      "found rawannawi&[city id]\n",
      "No City Data Found for rawannawi\n",
      "found kose&[city id]\n",
      "found vestmannaeyjar&[city id]\n",
      "found meulaboh&[city id]\n",
      "found tual&[city id]\n",
      "found srednekolymsk&[city id]\n",
      "found ayagoz&[city id]\n",
      "found kavieng&[city id]\n",
      "found albufeira&[city id]\n",
      "found cherskiy&[city id]\n",
      "found evensk&[city id]\n",
      "found norman wells&[city id]\n",
      "found saint-augustin&[city id]\n",
      "found mount isa&[city id]\n",
      "found vostok&[city id]\n",
      "found bambous virieux&[city id]\n",
      "found esperance&[city id]\n",
      "found caravelas&[city id]\n",
      "found fort nelson&[city id]\n",
      "found freeport&[city id]\n",
      "found eirunepe&[city id]\n",
      "found sitka&[city id]\n",
      "found hasaki&[city id]\n",
      "found palmer&[city id]\n",
      "found kieta&[city id]\n",
      "found gombong&[city id]\n",
      "found paducah&[city id]\n",
      "found san patricio&[city id]\n",
      "found ocampo&[city id]\n",
      "found manono&[city id]\n",
      "found gisborne&[city id]\n",
      "found luganville&[city id]\n",
      "found miles city&[city id]\n",
      "found bethel&[city id]\n",
      "found port hardy&[city id]\n",
      "found umzimvubu&[city id]\n",
      "No City Data Found for umzimvubu\n",
      "found airai&[city id]\n",
      "found batagay-alyta&[city id]\n",
      "found pasighat&[city id]\n",
      "found souillac&[city id]\n",
      "found grand river south east&[city id]\n",
      "No City Data Found for grand river south east\n",
      "found georgetown&[city id]\n",
      "found victoria&[city id]\n",
      "found atar&[city id]\n",
      "found paamiut&[city id]\n",
      "found anadyr&[city id]\n",
      "found ilo&[city id]\n",
      "found codrington&[city id]\n",
      "found yumen&[city id]\n",
      "found urengoy&[city id]\n",
      "found invermere&[city id]\n",
      "found vallenar&[city id]\n",
      "found uong bi&[city id]\n",
      "found okhotsk&[city id]\n",
      "found katobu&[city id]\n",
      "found avera&[city id]\n",
      "found kaitangata&[city id]\n",
      "found lazaro cardenas&[city id]\n",
      "found emerald&[city id]\n",
      "found carnarvon&[city id]\n",
      "found helong&[city id]\n",
      "found channel-port aux basques&[city id]\n",
      "found hambantota&[city id]\n",
      "found port elizabeth&[city id]\n",
      "found hobyo&[city id]\n",
      "found barrow&[city id]\n",
      "found namibe&[city id]\n",
      "found safwah&[city id]\n",
      "No City Data Found for safwah\n",
      "found iqaluit&[city id]\n",
      "found walvis bay&[city id]\n",
      "found acin&[city id]\n",
      "No City Data Found for acin\n",
      "found itaqui&[city id]\n",
      "found tabou&[city id]\n",
      "found katherine&[city id]\n",
      "found ewo&[city id]\n",
      "found itacoatiara&[city id]\n",
      "found berlevag&[city id]\n",
      "found staryy nadym&[city id]\n",
      "found flinders&[city id]\n",
      "found chirilagua&[city id]\n",
      "found vega de alatorre&[city id]\n",
      "found pangnirtung&[city id]\n",
      "found verkh-suetka&[city id]\n",
      "found pochutla&[city id]\n",
      "found vetlanda&[city id]\n",
      "found ucluelet&[city id]\n",
      "found sabha&[city id]\n",
      "found cochrane&[city id]\n",
      "found cidreira&[city id]\n",
      "found vardo&[city id]\n",
      "found ancud&[city id]\n",
      "found salalah&[city id]\n",
      "found tynda&[city id]\n",
      "found maloshuyka&[city id]\n",
      "No City Data Found for maloshuyka\n",
      "found zhigansk&[city id]\n",
      "found adzope&[city id]\n",
      "found saint anthony&[city id]\n",
      "found metkovic&[city id]\n",
      "found mitsamiouli&[city id]\n",
      "found nishihara&[city id]\n",
      "found khonuu&[city id]\n",
      "No City Data Found for khonuu\n",
      "found lebu&[city id]\n",
      "found isangel&[city id]\n",
      "found tiznit&[city id]\n",
      "found kiunga&[city id]\n",
      "found alofi&[city id]\n",
      "found nizhneyansk&[city id]\n",
      "No City Data Found for nizhneyansk\n",
      "found ostrovnoy&[city id]\n",
      "found samana&[city id]\n",
      "found ahipara&[city id]\n",
      "found shatrovo&[city id]\n",
      "found chokurdakh&[city id]\n",
      "found maxixe&[city id]\n",
      "found chaman&[city id]\n",
      "found amderma&[city id]\n",
      "No City Data Found for amderma\n",
      "found the valley&[city id]\n",
      "found ransang&[city id]\n",
      "found gigmoto&[city id]\n",
      "found dambulla&[city id]\n",
      "found cotonou&[city id]\n",
      "found porto seguro&[city id]\n",
      "found totoral&[city id]\n",
      "found burica&[city id]\n",
      "No City Data Found for burica\n",
      "found jinchang&[city id]\n",
      "found xuddur&[city id]\n",
      "found giddalur&[city id]\n",
      "found satitoa&[city id]\n",
      "No City Data Found for satitoa\n",
      "found san luis de gaceno&[city id]\n",
      "found the hammocks&[city id]\n",
      "found saskylakh&[city id]\n",
      "found chissamba&[city id]\n",
      "found pyshchug&[city id]\n",
      "found sakakah&[city id]\n"
     ]
    },
    {
     "name": "stdout",
     "output_type": "stream",
     "text": [
      "found coihaique&[city id]\n",
      "found roma&[city id]\n",
      "found dikson&[city id]\n",
      "found marawi&[city id]\n",
      "found vangaindrano&[city id]\n",
      "found guerrero negro&[city id]\n",
      "found ust-ishim&[city id]\n",
      "found antsohihy&[city id]\n",
      "found egvekinot&[city id]\n",
      "found nelson bay&[city id]\n",
      "found skjervoy&[city id]\n",
      "found katsuura&[city id]\n",
      "found iroquois falls&[city id]\n",
      "found catuday&[city id]\n",
      "found omboue&[city id]\n",
      "found umm ruwabah&[city id]\n",
      "No City Data Found for umm ruwabah\n",
      "found vanavara&[city id]\n",
      "found ngukurr&[city id]\n",
      "No City Data Found for ngukurr\n",
      "found huarmey&[city id]\n",
      "found mwinilunga&[city id]\n",
      "found bagn&[city id]\n",
      "found ixtapa&[city id]\n",
      "found saint-joseph&[city id]\n",
      "found golden&[city id]\n",
      "found san felipe&[city id]\n",
      "found nouadhibou&[city id]\n",
      "found broken hill&[city id]\n",
      "found kulhudhuffushi&[city id]\n",
      "found waddan&[city id]\n",
      "found pevek&[city id]\n",
      "found bustamante&[city id]\n",
      "found kim&[city id]\n",
      "found touros&[city id]\n",
      "found puerto el triunfo&[city id]\n",
      "found casper&[city id]\n",
      "found montes claros&[city id]\n",
      "found los llanos de aridane&[city id]\n",
      "found ishigaki&[city id]\n",
      "found lucea&[city id]\n",
      "found mityana&[city id]\n",
      "found deputatskiy&[city id]\n",
      "found yinchuan&[city id]\n",
      "found peniche&[city id]\n",
      "found biak&[city id]\n",
      "found sorland&[city id]\n",
      "found harper&[city id]\n",
      "found lianzhou&[city id]\n",
      "found lasa&[city id]\n",
      "found nuuk&[city id]\n",
      "found buchanan&[city id]\n",
      "found khuzhir&[city id]\n",
      "found kizukuri&[city id]\n",
      "found yuxia&[city id]\n",
      "found imeni poliny osipenko&[city id]\n",
      "found palana&[city id]\n",
      "found halifax&[city id]\n",
      "found longyearbyen&[city id]\n",
      "found burnie&[city id]\n",
      "found ilulissat&[city id]\n",
      "found rapid valley&[city id]\n",
      "found rocha&[city id]\n",
      "found ballina&[city id]\n",
      "found pierre&[city id]\n",
      "found tanete&[city id]\n",
      "found falealupo&[city id]\n",
      "No City Data Found for falealupo\n",
      "found mnogovershinnyy&[city id]\n",
      "found gawler&[city id]\n",
      "found topolovgrad&[city id]\n",
      "found adrar&[city id]\n",
      "found giyon&[city id]\n",
      "found husavik&[city id]\n",
      "found acapulco&[city id]\n",
      "found toba&[city id]\n",
      "found ascension&[city id]\n",
      "found nebbi&[city id]\n",
      "found kangaatsiaq&[city id]\n",
      "found humberto de campos&[city id]\n",
      "found yeniseysk&[city id]\n",
      "found salinopolis&[city id]\n",
      "found port keats&[city id]\n",
      "found marcona&[city id]\n",
      "No City Data Found for marcona\n",
      "found dwarka&[city id]\n",
      "found njombe&[city id]\n",
      "found severo-kurilsk&[city id]\n",
      "found laurel&[city id]\n",
      "found mahadday weyne&[city id]\n",
      "No City Data Found for mahadday weyne\n",
      "found salta&[city id]\n",
      "found astipalaia&[city id]\n",
      "No City Data Found for astipalaia\n",
      "found arman&[city id]\n",
      "found aykhal&[city id]\n",
      "found kurchum&[city id]\n",
      "found saint-louis&[city id]\n",
      "found lugovskiy&[city id]\n",
      "No City Data Found for lugovskiy\n",
      "found santa cruz&[city id]\n",
      "found cururupu&[city id]\n",
      "found madawaska&[city id]\n",
      "found orocue&[city id]\n",
      "found fort abbas&[city id]\n",
      "found kununurra&[city id]\n",
      "found faya&[city id]\n",
      "found svetlopolyansk&[city id]\n",
      "found kalivia thorikou&[city id]\n",
      "No City Data Found for kalivia thorikou\n",
      "found alta floresta&[city id]\n",
      "found honiara&[city id]\n",
      "found saint-pierre&[city id]\n",
      "found chagda&[city id]\n",
      "No City Data Found for chagda\n",
      "found mao&[city id]\n",
      "found asilah&[city id]\n",
      "found saint george&[city id]\n",
      "found ngunguru&[city id]\n",
      "found kamenka&[city id]\n",
      "found udachnyy&[city id]\n",
      "found torbay&[city id]\n",
      "found havre-saint-pierre&[city id]\n",
      "found mahibadhoo&[city id]\n",
      "found hamilton&[city id]\n",
      "found beringovskiy&[city id]\n",
      "found stoyba&[city id]\n",
      "No City Data Found for stoyba\n",
      "found aquiraz&[city id]\n",
      "found cam ranh&[city id]\n",
      "found winsum&[city id]\n",
      "found westport&[city id]\n",
      "found riobamba&[city id]\n",
      "found nagato&[city id]\n",
      "found brae&[city id]\n",
      "found mogadishu&[city id]\n",
      "found tuatapere&[city id]\n",
      "found meadow lake&[city id]\n",
      "found simeonovgrad&[city id]\n",
      "found gat&[city id]\n",
      "found jawhar&[city id]\n",
      "found kamennogorsk&[city id]\n",
      "found yialos&[city id]\n",
      "No City Data Found for yialos\n",
      "found surovikino&[city id]\n",
      "found cairns&[city id]\n",
      "found chapais&[city id]\n",
      "found poum&[city id]\n",
      "found kattivakkam&[city id]\n",
      "found trairi&[city id]\n",
      "found ulaanbaatar&[city id]\n",
      "found szczytno&[city id]\n",
      "found beterou&[city id]\n",
      "found chernyakhovsk&[city id]\n",
      "found sayat&[city id]\n",
      "found tazovskiy&[city id]\n",
      "found margate&[city id]\n",
      "found rincon&[city id]\n",
      "found bireun&[city id]\n",
      "found palabuhanratu&[city id]\n",
      "No City Data Found for palabuhanratu\n",
      "found nizhniy chir&[city id]\n",
      "found port augusta&[city id]\n",
      "found seoul&[city id]\n",
      "found progreso&[city id]\n",
      "found adre&[city id]\n",
      "found winnemucca&[city id]\n",
      "found sao sebastiao&[city id]\n",
      "found yarim&[city id]\n",
      "found iskateley&[city id]\n",
      "found malaya vishera&[city id]\n",
      "found gazojak&[city id]\n",
      "found iquique&[city id]\n",
      "found krasnyy luch&[city id]\n",
      "found sao joao da barra&[city id]\n",
      "found balkanabat&[city id]\n",
      "found olinala&[city id]\n",
      "found narrabri&[city id]\n",
      "found praxedis guerrero&[city id]\n",
      "found yulara&[city id]\n",
      "found rawlins&[city id]\n",
      "found elko&[city id]\n",
      "found panguna&[city id]\n",
      "found sesimbra&[city id]\n",
      "found necochea&[city id]\n",
      "found ziway&[city id]\n",
      "found solovetskiy&[city id]\n",
      "No City Data Found for solovetskiy\n",
      "found gamba&[city id]\n",
      "found maragogi&[city id]\n",
      "found ruza&[city id]\n",
      "found cam pha&[city id]\n",
      "No City Data Found for cam pha\n",
      "found calvinia&[city id]\n",
      "found lulea&[city id]\n",
      "found acari&[city id]\n",
      "found tawkar&[city id]\n",
      "No City Data Found for tawkar\n",
      "found iberia&[city id]\n",
      "found suntar&[city id]\n",
      "found quatre cocos&[city id]\n",
      "found alice springs&[city id]\n",
      "found meyungs&[city id]\n",
      "No City Data Found for meyungs\n",
      "found sentyabrskiy&[city id]\n",
      "No City Data Found for sentyabrskiy\n",
      "found angoche&[city id]\n",
      "found am timan&[city id]\n",
      "found wilmington&[city id]\n",
      "found broome&[city id]\n",
      "found saint-denis&[city id]\n",
      "found vanimo&[city id]\n",
      "found antalaha&[city id]\n",
      "found sveio&[city id]\n",
      "found upata&[city id]\n",
      "found fairbanks&[city id]\n",
      "found vila velha&[city id]\n",
      "found charyshskoye&[city id]\n",
      "found moree&[city id]\n",
      "found sharkan&[city id]\n",
      "found pedernales&[city id]\n",
      "found bulgan&[city id]\n",
      "found kavaratti&[city id]\n",
      "found ruatoria&[city id]\n",
      "No City Data Found for ruatoria\n",
      "found laukaa&[city id]\n",
      "found pagman&[city id]\n",
      "No City Data Found for pagman\n",
      "found toamasina&[city id]\n",
      "found batticaloa&[city id]\n",
      "found phirangipuram&[city id]\n",
      "found taft&[city id]\n",
      "found yerbogachen&[city id]\n",
      "found shimoda&[city id]\n",
      "found waingapu&[city id]\n",
      "found maumere&[city id]\n",
      "found livingston&[city id]\n",
      "found nome&[city id]\n",
      "found circleville&[city id]\n",
      "found hostotipaquillo&[city id]\n",
      "found san quintin&[city id]\n",
      "found valley city&[city id]\n",
      "found rusape&[city id]\n",
      "found smithers&[city id]\n",
      "found abay&[city id]\n",
      "found jabiru&[city id]\n",
      "No City Data Found for jabiru\n",
      "found toliary&[city id]\n",
      "No City Data Found for toliary\n",
      "found hihifo&[city id]\n",
      "No City Data Found for hihifo\n",
      "found tulum&[city id]\n",
      "found aginskoye&[city id]\n",
      "found san pedro&[city id]\n",
      "found kamenskoye&[city id]\n",
      "No City Data Found for kamenskoye\n",
      "found svetlogorsk&[city id]\n",
      "found kupang&[city id]\n",
      "found privodino&[city id]\n",
      "found mehamn&[city id]\n",
      "found onalaska&[city id]\n",
      "found redcliffe&[city id]\n",
      "found grande-riviere&[city id]\n",
      "No City Data Found for grande-riviere\n",
      "found longlac&[city id]\n",
      "No City Data Found for longlac\n",
      "found batagay&[city id]\n",
      "found kaeng khoi&[city id]\n",
      "found karpathos&[city id]\n",
      "found kysyl-syr&[city id]\n",
      "found fez&[city id]\n",
      "found clinton&[city id]\n",
      "found andenes&[city id]\n",
      "found omsukchan&[city id]\n",
      "found santa cecilia&[city id]\n",
      "found guajara-mirim&[city id]\n",
      "No City Data Found for guajara-mirim\n",
      "found simpang&[city id]\n",
      "found hualmay&[city id]\n",
      "found alotau&[city id]\n",
      "No City Data Found for alotau\n",
      "found lagunas&[city id]\n",
      "found college&[city id]\n",
      "found chkalovskoye&[city id]\n",
      "found zhuhai&[city id]\n",
      "found jurado&[city id]\n",
      "found marshall&[city id]\n",
      "found boysun&[city id]\n",
      "found lata&[city id]\n",
      "found barentu&[city id]\n",
      "found kimbe&[city id]\n",
      "found kahului&[city id]\n",
      "found katangli&[city id]\n",
      "found beira&[city id]\n",
      "found mehran&[city id]\n",
      "found richards bay&[city id]\n",
      "found manzanillo&[city id]\n",
      "found ankpa&[city id]\n",
      "found labuhan&[city id]\n",
      "found fortuna&[city id]\n",
      "found xianyang&[city id]\n",
      "found berlin&[city id]\n",
      "found talaya&[city id]\n",
      "found geraldton&[city id]\n",
      "found beyneu&[city id]\n",
      "found ticuantepe&[city id]\n",
      "found bonfim&[city id]\n",
      "found strelka&[city id]\n",
      "found novoagansk&[city id]\n",
      "found aswan&[city id]\n",
      "found inta&[city id]\n",
      "found mayumba&[city id]\n",
      "found samalaeulu&[city id]\n",
      "No City Data Found for samalaeulu\n",
      "found visnes&[city id]\n",
      "found laguna&[city id]\n",
      "found iracoubo&[city id]\n",
      "found kuche&[city id]\n"
     ]
    },
    {
     "name": "stdout",
     "output_type": "stream",
     "text": [
      "No City Data Found for kuche\n",
      "found manokwari&[city id]\n",
      "found svetlyy&[city id]\n",
      "found tunceli&[city id]\n",
      "found lahat&[city id]\n",
      "found huilong&[city id]\n",
      "found hohhot&[city id]\n",
      "found noumea&[city id]\n",
      "found port lincoln&[city id]\n",
      "found verkhoyansk&[city id]\n",
      "found nago&[city id]\n",
      "found malwan&[city id]\n",
      "No City Data Found for malwan\n",
      "found modasa&[city id]\n",
      "found jieshi&[city id]\n",
      "found gizo&[city id]\n",
      "found steinbach&[city id]\n",
      "found les cayes&[city id]\n",
      "found bafq&[city id]\n",
      "found aflu&[city id]\n",
      "No City Data Found for aflu\n",
      "found tefe&[city id]\n",
      "found tokur&[city id]\n",
      "found namatanai&[city id]\n",
      "found anshun&[city id]\n",
      "found tumannyy&[city id]\n",
      "No City Data Found for tumannyy\n",
      "found vestmanna&[city id]\n",
      "found timaru&[city id]\n",
      "found ketchikan&[city id]\n",
      "found san borja&[city id]\n",
      "found almaznyy&[city id]\n"
     ]
    }
   ],
   "source": [
    "cities_results = []\n",
    "\n",
    "#Conversion of Kelvin to Fahrenheit\n",
    "\n",
    "\n",
    "for index,city in enumerate(cities):\n",
    "    \n",
    "    base_url = \"http://api.openweathermap.org/data/2.5/weather?\"\n",
    "    query_url = f\"{base_url}appid={weather_api_key}&q={city}&units=imperial\"\n",
    "\n",
    "    print(f'found {city}')\n",
    "          \n",
    "    try:\n",
    "        # Get weather data\n",
    "        weather_response = requests.get(query_url).json()\n",
    "        lon=weather_response[\"coord\"][\"lon\"]\n",
    "        lat=weather_response[\"coord\"][\"lat\"]\n",
    "        cities_results.append(weather_response)\n",
    "        \n",
    "        \n",
    "    except:\n",
    "        print(f\"No City Data Found for {city}\")\n",
    "\n",
    "         \n",
    "    \n",
    "         \n",
    "\n",
    "\n"
   ]
  },
  {
   "cell_type": "markdown",
   "metadata": {},
   "source": [
    "### Convert Raw Data to DataFrame\n",
    "* Export the city data into a .csv.\n",
    "* Display the DataFrame"
   ]
  },
  {
   "cell_type": "code",
   "execution_count": null,
   "metadata": {},
   "outputs": [],
   "source": []
  },
  {
   "cell_type": "code",
   "execution_count": 6,
   "metadata": {},
   "outputs": [
    {
     "data": {
      "text/plain": [
       "543"
      ]
     },
     "execution_count": 6,
     "metadata": {},
     "output_type": "execute_result"
    }
   ],
   "source": [
    "len(cities_results)"
   ]
  },
  {
   "cell_type": "code",
   "execution_count": 7,
   "metadata": {},
   "outputs": [],
   "source": [
    "city_data = []\n",
    "for i,city in enumerate(cities_results):\n",
    "    cityname = city[\"name\"]\n",
    "    citytemp = city[\"main\"][\"temp\"]\n",
    "    citylat = city[\"coord\"][\"lat\"]\n",
    "    cityhum = city[\"main\"][\"humidity\"]\n",
    "    citycloud = city[\"clouds\"][\"all\"]\n",
    "    citywind = city[\"wind\"][\"speed\"]\n",
    "    city_data.append(\n",
    "        {\"City\": cityname,\n",
    "        \"Temperature\": citytemp,\n",
    "        \"Latitude\": citylat,\n",
    "        \"Humidity %\" : cityhum,\n",
    "        \"Cloudiness %\" : citycloud,\n",
    "        \"Wind Speed\" : citywind\n",
    "        })\n"
   ]
  },
  {
   "cell_type": "code",
   "execution_count": 8,
   "metadata": {},
   "outputs": [],
   "source": [
    "cities_res_df = pd.DataFrame(city_data)"
   ]
  },
  {
   "cell_type": "code",
   "execution_count": 9,
   "metadata": {},
   "outputs": [
    {
     "data": {
      "text/html": [
       "<div>\n",
       "<style scoped>\n",
       "    .dataframe tbody tr th:only-of-type {\n",
       "        vertical-align: middle;\n",
       "    }\n",
       "\n",
       "    .dataframe tbody tr th {\n",
       "        vertical-align: top;\n",
       "    }\n",
       "\n",
       "    .dataframe thead th {\n",
       "        text-align: right;\n",
       "    }\n",
       "</style>\n",
       "<table border=\"1\" class=\"dataframe\">\n",
       "  <thead>\n",
       "    <tr style=\"text-align: right;\">\n",
       "      <th></th>\n",
       "      <th>City</th>\n",
       "      <th>Temperature</th>\n",
       "      <th>Latitude</th>\n",
       "      <th>Humidity %</th>\n",
       "      <th>Cloudiness %</th>\n",
       "      <th>Wind Speed</th>\n",
       "    </tr>\n",
       "  </thead>\n",
       "  <tbody>\n",
       "    <tr>\n",
       "      <th>0</th>\n",
       "      <td>La Palma</td>\n",
       "      <td>59.50</td>\n",
       "      <td>33.85</td>\n",
       "      <td>59</td>\n",
       "      <td>40</td>\n",
       "      <td>13.87</td>\n",
       "    </tr>\n",
       "    <tr>\n",
       "      <th>1</th>\n",
       "      <td>Mar del Plata</td>\n",
       "      <td>80.60</td>\n",
       "      <td>-38.00</td>\n",
       "      <td>42</td>\n",
       "      <td>0</td>\n",
       "      <td>9.17</td>\n",
       "    </tr>\n",
       "    <tr>\n",
       "      <th>2</th>\n",
       "      <td>East London</td>\n",
       "      <td>70.34</td>\n",
       "      <td>-33.02</td>\n",
       "      <td>76</td>\n",
       "      <td>98</td>\n",
       "      <td>5.12</td>\n",
       "    </tr>\n",
       "    <tr>\n",
       "      <th>3</th>\n",
       "      <td>Eyemouth</td>\n",
       "      <td>49.28</td>\n",
       "      <td>55.87</td>\n",
       "      <td>93</td>\n",
       "      <td>100</td>\n",
       "      <td>16.11</td>\n",
       "    </tr>\n",
       "    <tr>\n",
       "      <th>4</th>\n",
       "      <td>Lagoa</td>\n",
       "      <td>62.11</td>\n",
       "      <td>39.05</td>\n",
       "      <td>80</td>\n",
       "      <td>100</td>\n",
       "      <td>25.99</td>\n",
       "    </tr>\n",
       "    <tr>\n",
       "      <th>...</th>\n",
       "      <td>...</td>\n",
       "      <td>...</td>\n",
       "      <td>...</td>\n",
       "      <td>...</td>\n",
       "      <td>...</td>\n",
       "      <td>...</td>\n",
       "    </tr>\n",
       "    <tr>\n",
       "      <th>538</th>\n",
       "      <td>Vestmanna</td>\n",
       "      <td>44.60</td>\n",
       "      <td>62.16</td>\n",
       "      <td>93</td>\n",
       "      <td>10</td>\n",
       "      <td>9.17</td>\n",
       "    </tr>\n",
       "    <tr>\n",
       "      <th>539</th>\n",
       "      <td>Timaru</td>\n",
       "      <td>71.01</td>\n",
       "      <td>-44.40</td>\n",
       "      <td>70</td>\n",
       "      <td>0</td>\n",
       "      <td>8.99</td>\n",
       "    </tr>\n",
       "    <tr>\n",
       "      <th>540</th>\n",
       "      <td>Ketchikan</td>\n",
       "      <td>37.40</td>\n",
       "      <td>55.34</td>\n",
       "      <td>100</td>\n",
       "      <td>90</td>\n",
       "      <td>23.04</td>\n",
       "    </tr>\n",
       "    <tr>\n",
       "      <th>541</th>\n",
       "      <td>San Borja</td>\n",
       "      <td>77.85</td>\n",
       "      <td>-14.82</td>\n",
       "      <td>82</td>\n",
       "      <td>94</td>\n",
       "      <td>2.64</td>\n",
       "    </tr>\n",
       "    <tr>\n",
       "      <th>542</th>\n",
       "      <td>Almaznyy</td>\n",
       "      <td>32.00</td>\n",
       "      <td>48.04</td>\n",
       "      <td>96</td>\n",
       "      <td>90</td>\n",
       "      <td>6.71</td>\n",
       "    </tr>\n",
       "  </tbody>\n",
       "</table>\n",
       "<p>543 rows × 6 columns</p>\n",
       "</div>"
      ],
      "text/plain": [
       "              City  Temperature  Latitude  Humidity %  Cloudiness %  \\\n",
       "0         La Palma        59.50     33.85          59            40   \n",
       "1    Mar del Plata        80.60    -38.00          42             0   \n",
       "2      East London        70.34    -33.02          76            98   \n",
       "3         Eyemouth        49.28     55.87          93           100   \n",
       "4            Lagoa        62.11     39.05          80           100   \n",
       "..             ...          ...       ...         ...           ...   \n",
       "538      Vestmanna        44.60     62.16          93            10   \n",
       "539         Timaru        71.01    -44.40          70             0   \n",
       "540      Ketchikan        37.40     55.34         100            90   \n",
       "541      San Borja        77.85    -14.82          82            94   \n",
       "542       Almaznyy        32.00     48.04          96            90   \n",
       "\n",
       "     Wind Speed  \n",
       "0         13.87  \n",
       "1          9.17  \n",
       "2          5.12  \n",
       "3         16.11  \n",
       "4         25.99  \n",
       "..          ...  \n",
       "538        9.17  \n",
       "539        8.99  \n",
       "540       23.04  \n",
       "541        2.64  \n",
       "542        6.71  \n",
       "\n",
       "[543 rows x 6 columns]"
      ]
     },
     "execution_count": 9,
     "metadata": {},
     "output_type": "execute_result"
    }
   ],
   "source": [
    "cities_res_df"
   ]
  },
  {
   "cell_type": "markdown",
   "metadata": {},
   "source": [
    "cities_res_df"
   ]
  },
  {
   "cell_type": "code",
   "execution_count": null,
   "metadata": {},
   "outputs": [],
   "source": []
  },
  {
   "cell_type": "markdown",
   "metadata": {},
   "source": [
    "## Inspect the data and remove the cities where the humidity > 100%.\n",
    "----\n",
    "Skip this step if there are no cities that have humidity > 100%. "
   ]
  },
  {
   "cell_type": "code",
   "execution_count": 10,
   "metadata": {},
   "outputs": [
    {
     "data": {
      "text/plain": [
       "False"
      ]
     },
     "execution_count": 10,
     "metadata": {},
     "output_type": "execute_result"
    }
   ],
   "source": [
    "#  Get the indices of cities that have humidity over 100%.\n",
    "\n",
    "'100' in cities_res_df.values\n",
    "\n",
    "\n"
   ]
  },
  {
   "cell_type": "code",
   "execution_count": 11,
   "metadata": {},
   "outputs": [
    {
     "ename": "NameError",
     "evalue": "name 'booleans' is not defined",
     "output_type": "error",
     "traceback": [
      "\u001b[1;31m---------------------------------------------------------------------------\u001b[0m",
      "\u001b[1;31mNameError\u001b[0m                                 Traceback (most recent call last)",
      "\u001b[1;32m<ipython-input-11-aa6f1e853123>\u001b[0m in \u001b[0;36m<module>\u001b[1;34m\u001b[0m\n\u001b[1;32m----> 1\u001b[1;33m \u001b[0mbooleans\u001b[0m\u001b[1;33m[\u001b[0m\u001b[1;36m0\u001b[0m\u001b[1;33m:\u001b[0m\u001b[1;36m5\u001b[0m\u001b[1;33m]\u001b[0m\u001b[1;33m\u001b[0m\u001b[1;33m\u001b[0m\u001b[0m\n\u001b[0m",
      "\u001b[1;31mNameError\u001b[0m: name 'booleans' is not defined"
     ]
    }
   ],
   "source": []
  },
  {
   "cell_type": "code",
   "execution_count": 11,
   "metadata": {},
   "outputs": [],
   "source": [
    "# Make a new DataFrame equal to the city data to drop all humidity outliers by index.\n",
    "# Passing \"inplace=False\" will make a copy of the city_data DataFrame, which we call \"clean_city_data\".\n"
   ]
  },
  {
   "cell_type": "code",
   "execution_count": null,
   "metadata": {},
   "outputs": [],
   "source": [
    "\n"
   ]
  },
  {
   "cell_type": "markdown",
   "metadata": {},
   "source": [
    "## Plotting the Data\n",
    "* Use proper labeling of the plots using plot titles (including date of analysis) and axes labels.\n",
    "* Save the plotted figures as .pngs."
   ]
  },
  {
   "cell_type": "markdown",
   "metadata": {},
   "source": [
    "## Latitude vs. Temperature Plot"
   ]
  },
  {
   "cell_type": "code",
   "execution_count": 38,
   "metadata": {
    "scrolled": true
   },
   "outputs": [
    {
     "data": {
      "image/png": "[encoded data removed]",
      "text/plain": [
       "<Figure size 432x288 with 1 Axes>"
      ]
     },
     "metadata": {
      "needs_background": "light"
     },
     "output_type": "display_data"
    }
   ],
   "source": [
    "#Scatterplot showing the Latitude vs. Temperature\n",
    "\n",
    "latitude = cities_res_df['Latitude']\n",
    "temperature = cities_res_df['Temperature']\n",
    "edgecolors = ['black']\n",
    "plt.scatter(latitude, temperature, edgecolors=edgecolors)\n",
    "plt.title(\"City Latitude vs. Temperature\")\n",
    "plt.xlabel(\"Latitude\")\n",
    "plt.ylabel(\"Temperature\")\n",
    "plt.grid(b=True)\n",
    "plt.show()\n"
   ]
  },
  {
   "cell_type": "code",
   "execution_count": 43,
   "metadata": {},
   "outputs": [
    {
     "name": "stdout",
     "output_type": "stream",
     "text": [
      "This Scatter Plot measures the the city's latitude from the Equator to its temperature\n"
     ]
    }
   ],
   "source": [
    "print(f\"This Scatter Plot measures the the city's Latitude from the Equator to its Temperature\")"
   ]
  },
  {
   "cell_type": "markdown",
   "metadata": {},
   "source": [
    "## Latitude vs. Humidity Plot"
   ]
  },
  {
   "cell_type": "code",
   "execution_count": 39,
   "metadata": {},
   "outputs": [
    {
     "data": {
      "image/png": "[encoded data removed]",
      "text/plain": [
       "<Figure size 432x288 with 1 Axes>"
      ]
     },
     "metadata": {
      "needs_background": "light"
     },
     "output_type": "display_data"
    }
   ],
   "source": [
    "latitude = cities_res_df['Latitude']\n",
    "humidity = cities_res_df['Humidity %']\n",
    "edgecolors = ['black']\n",
    "plt.scatter(latitude, temperature, edgecolors=edgecolors)\n",
    "plt.title(\"City Latitude vs. Humidity%\")\n",
    "plt.xlabel(\"Latitude\")\n",
    "plt.ylabel(\"Humidity %\")\n",
    "plt.grid(b=True)\n",
    "plt.show()"
   ]
  },
  {
   "cell_type": "code",
   "execution_count": 45,
   "metadata": {},
   "outputs": [
    {
     "name": "stdout",
     "output_type": "stream",
     "text": [
      "This Scatter Plot measures the the city's Latitude related to it's Humidity\n"
     ]
    }
   ],
   "source": [
    "print(f\"This Scatter Plot measures the the city's Latitude from the Equator/Prime Meridian relative to Humidity\")"
   ]
  },
  {
   "cell_type": "markdown",
   "metadata": {},
   "source": [
    "## Latitude vs. Cloudiness Plot"
   ]
  },
  {
   "cell_type": "code",
   "execution_count": 41,
   "metadata": {},
   "outputs": [
    {
     "data": {
      "image/png": "[encoded data removed]",
      "text/plain": [
       "<Figure size 432x288 with 1 Axes>"
      ]
     },
     "metadata": {
      "needs_background": "light"
     },
     "output_type": "display_data"
    }
   ],
   "source": [
    "latitude = cities_res_df['Latitude']\n",
    "cloudiness = cities_res_df['Cloudiness %']\n",
    "edgecolors = ['black']\n",
    "plt.scatter(latitude, temperature, edgecolors=edgecolors)\n",
    "plt.title(\"City Latitude vs. Cloudiness\")\n",
    "plt.xlabel(\"Latitude\")\n",
    "plt.ylabel(\"Cloudiness\")\n",
    "plt.grid(b=True)\n",
    "plt.show()"
   ]
  },
  {
   "cell_type": "code",
   "execution_count": 44,
   "metadata": {},
   "outputs": [
    {
     "name": "stdout",
     "output_type": "stream",
     "text": [
      "This Scatter Plot measures the the city's Latitude from the Equator to its Cloud cover\n"
     ]
    }
   ],
   "source": [
    "print(f\"This Scatter Plot measures the the city's Latitude from the Equator/Prime Meridian to Cloud cover\")"
   ]
  },
  {
   "cell_type": "markdown",
   "metadata": {},
   "source": [
    "## Latitude vs. Wind Speed Plot"
   ]
  },
  {
   "cell_type": "code",
   "execution_count": 42,
   "metadata": {},
   "outputs": [
    {
     "data": {
      "image/png": "[encoded data removed]",
      "text/plain": [
       "<Figure size 432x288 with 1 Axes>"
      ]
     },
     "metadata": {
      "needs_background": "light"
     },
     "output_type": "display_data"
    }
   ],
   "source": [
    "latitude = cities_res_df['Latitude']\n",
    "windspeed = cities_res_df['Wind Speed']\n",
    "edgecolors = ['black']\n",
    "plt.scatter(latitude, temperature, edgecolors=edgecolors)\n",
    "plt.title(\"City Latitude vs. Wind Speed\")\n",
    "plt.xlabel(\"Latitude\")\n",
    "plt.ylabel(\"Wind Speed\")\n",
    "plt.grid(b=True)\n",
    "plt.show()"
   ]
  },
  {
   "cell_type": "code",
   "execution_count": 46,
   "metadata": {},
   "outputs": [
    {
     "name": "stdout",
     "output_type": "stream",
     "text": [
      "This Scatter Plot measures the the city's Latitude from the Equator/Prime Meridian to Wind Speed\n"
     ]
    }
   ],
   "source": [
    "print(f\"This Scatter Plot measures the the city's Latitude from the Equator/Prime Meridian to Wind Speed\")"
   ]
  },
  {
   "cell_type": "markdown",
   "metadata": {},
   "source": [
    "## Linear Regression"
   ]
  },
  {
   "cell_type": "markdown",
   "metadata": {},
   "source": [
    "####  Northern Hemisphere - Max Temp vs. Latitude Linear Regression"
   ]
  },
  {
   "cell_type": "code",
   "execution_count": null,
   "metadata": {},
   "outputs": [],
   "source": []
  },
  {
   "cell_type": "markdown",
   "metadata": {},
   "source": [
    "####  Southern Hemisphere - Max Temp vs. Latitude Linear Regression"
   ]
  },
  {
   "cell_type": "code",
   "execution_count": null,
   "metadata": {},
   "outputs": [],
   "source": []
  },
  {
   "cell_type": "markdown",
   "metadata": {},
   "source": [
    "####  Northern Hemisphere - Humidity (%) vs. Latitude Linear Regression"
   ]
  },
  {
   "cell_type": "code",
   "execution_count": null,
   "metadata": {},
   "outputs": [],
   "source": []
  },
  {
   "cell_type": "markdown",
   "metadata": {},
   "source": [
    "####  Southern Hemisphere - Humidity (%) vs. Latitude Linear Regression"
   ]
  },
  {
   "cell_type": "code",
   "execution_count": null,
   "metadata": {},
   "outputs": [],
   "source": []
  },
  {
   "cell_type": "markdown",
   "metadata": {},
   "source": [
    "####  Northern Hemisphere - Cloudiness (%) vs. Latitude Linear Regression"
   ]
  },
  {
   "cell_type": "code",
   "execution_count": null,
   "metadata": {},
   "outputs": [],
   "source": []
  },
  {
   "cell_type": "markdown",
   "metadata": {},
   "source": [
    "####  Southern Hemisphere - Cloudiness (%) vs. Latitude Linear Regression"
   ]
  },
  {
   "cell_type": "code",
   "execution_count": null,
   "metadata": {},
   "outputs": [],
   "source": []
  },
  {
   "cell_type": "markdown",
   "metadata": {},
   "source": [
    "####  Northern Hemisphere - Wind Speed (mph) vs. Latitude Linear Regression"
   ]
  },
  {
   "cell_type": "code",
   "execution_count": null,
   "metadata": {},
   "outputs": [],
   "source": []
  },
  {
   "cell_type": "markdown",
   "metadata": {},
   "source": [
    "####  Southern Hemisphere - Wind Speed (mph) vs. Latitude Linear Regression"
   ]
  },
  {
   "cell_type": "code",
   "execution_count": null,
   "metadata": {},
   "outputs": [],
   "source": []
  },
  {
   "cell_type": "code",
   "execution_count": null,
   "metadata": {},
   "outputs": [],
   "source": []
  }
 ],
 "metadata": {
  "anaconda-cloud": {},
  "kernel_info": {
   "name": "python3"
  },
  "kernelspec": {
   "display_name": "Python 3",
   "language": "python",
   "name": "python3"
  },
  "language_info": {
   "codemirror_mode": {
    "name": "ipython",
    "version": 3
   },
   "file_extension": ".py",
   "mimetype": "text/x-python",
   "name": "python",
   "nbconvert_exporter": "python",
   "pygments_lexer": "ipython3",
   "version": "3.8.3"
  },
  "latex_envs": {
   "LaTeX_envs_menu_present": true,
   "autoclose": false,
   "autocomplete": true,
   "bibliofile": "biblio.bib",
   "cite_by": "apalike",
   "current_citInitial": 1,
   "eqLabelWithNumbers": true,
   "eqNumInitial": 1,
   "hotkeys": {
    "equation": "Ctrl-E",
    "itemize": "Ctrl-I"
   },
   "labels_anchors": false,
   "latex_user_defs": false,
   "report_style_numbering": false,
   "user_envs_cfg": false
  },
  "nteract": {
   "version": "0.12.3"
  }
 },
 "nbformat": 4,
 "nbformat_minor": 2
}
