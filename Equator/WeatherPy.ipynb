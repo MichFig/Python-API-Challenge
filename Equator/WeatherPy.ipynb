{
 "cells": [
  {
   "cell_type": "markdown",
   "metadata": {},
   "source": [
    "# WeatherPy\n",
    "----\n",
    "\n",
    "#### Note\n",
    "* Instructions have been included for each segment. You do not have to follow them exactly, but they are included to help you think through the steps."
   ]
  },
  {
   "cell_type": "code",
   "execution_count": 1,
   "metadata": {},
   "outputs": [
    {
     "output_type": "stream",
     "name": "stdout",
     "text": [
      "Requirement already satisfied: citipy in c:\\users\\michelle\\anaconda3\\envs\\myenv\\lib\\site-packages (0.0.5)\nRequirement already satisfied: kdtree>=0.12 in c:\\users\\michelle\\anaconda3\\envs\\myenv\\lib\\site-packages (from citipy) (0.16)\n"
     ]
    }
   ],
   "source": [
    "!pip install citipy"
   ]
  },
  {
   "cell_type": "code",
   "execution_count": 2,
   "metadata": {
    "scrolled": true
   },
   "outputs": [],
   "source": [
    "# Dependencies and Setup\n",
    "import matplotlib.pyplot as plt\n",
    "import pandas as pd\n",
    "import numpy as np\n",
    "import requests\n",
    "import time\n",
    "from scipy.stats import linregress\n",
    "\n",
    "# Import API key\n",
    "from api_keys import weather_api_key\n",
    "\n",
    "# Incorporated citipy to determine city based on latitude and longitude\n",
    "from citipy import citipy\n",
    "\n",
    "# Output File (CSV)\n",
    "#output_data_file = \"cities.csv\"\n",
    "\n",
    "# Range of latitudes and longitudes\n",
    "lat_range = (-90, 90)\n",
    "lng_range = (-180, 180)\n",
    "\n"
   ]
  },
  {
   "source": [
    "### Perform API Calls\n",
    "* Perform a weather check on each city using a series of successive API calls.\n",
    "* Include a print log of each city as it'sbeing processed (with the city number and city name).\n"
   ],
   "cell_type": "markdown",
   "metadata": {}
  },
  {
   "cell_type": "code",
   "execution_count": 3,
   "metadata": {},
   "outputs": [
    {
     "output_type": "execute_result",
     "data": {
      "text/plain": [
       "616"
      ]
     },
     "metadata": {},
     "execution_count": 3
    }
   ],
   "source": [
    "# List for holding lat_lngs and cities\n",
    "lat_lngs = []\n",
    "cities = []\n",
    "\n",
    "lat_lngs\n",
    "\n",
    "# Create a set of random lat and lng combinations\n",
    "lats = np.random.uniform(lat_range[0], lat_range[1], size=1500)\n",
    "lngs = np.random.uniform(lng_range[0], lng_range[1], size=1500)\n",
    "lat_lngs = zip(lats, lngs)\n",
    "\n",
    "# Identify nearest city for each lat, lng combination\n",
    "for lat_lng in lat_lngs:\n",
    "    city = citipy.nearest_city(lat_lng[0], lat_lng[1]).city_name\n",
    "    \n",
    "    # If the city is unique, then add it to a our cities list\n",
    "    if city not in cities:\n",
    "        cities.append(city)\n",
    "\n",
    "# Print the city count to confirm sufficient count\n",
    "len(cities)"
   ]
  },
  {
   "cell_type": "markdown",
   "metadata": {},
   "source": [
    "## Generate Cities List"
   ]
  },
  {
   "cell_type": "code",
   "execution_count": 4,
   "metadata": {},
   "outputs": [
    {
     "output_type": "execute_result",
     "data": {
      "text/plain": [
       "{'coord': {'lon': 169.85, 'lat': -46.28},\n",
       " 'weather': [{'id': 804,\n",
       "   'main': 'Clouds',\n",
       "   'description': 'overcast clouds',\n",
       "   'icon': '04n'}],\n",
       " 'base': 'stations',\n",
       " 'main': {'temp': 54,\n",
       "  'feels_like': 52.34,\n",
       "  'temp_min': 54,\n",
       "  'temp_max': 54,\n",
       "  'pressure': 1013,\n",
       "  'humidity': 79},\n",
       " 'visibility': 10000,\n",
       " 'wind': {'speed': 1.99, 'deg': 0, 'gust': 5.99},\n",
       " 'clouds': {'all': 100},\n",
       " 'dt': 1608219071,\n",
       " 'sys': {'type': 3,\n",
       "  'id': 2000217,\n",
       "  'country': 'NZ',\n",
       "  'sunrise': 1608223423,\n",
       "  'sunset': 1608280238},\n",
       " 'timezone': 46800,\n",
       " 'id': 2208248,\n",
       " 'name': 'Kaitangata',\n",
       " 'cod': 200}"
      ]
     },
     "metadata": {},
     "execution_count": 4
    }
   ],
   "source": [
    "base_url = \"http://api.openweathermap.org/data/2.5/weather?\"\n",
    "city = cities\n",
    "\n",
    "query_url = f\"{base_url}appid={weather_api_key}&q={city}&units=imperial\"\n",
    "\n",
    "# Get weather data\n",
    "weather_response = requests.get(query_url).json()\n",
    "weather_response"
   ]
  },
  {
   "cell_type": "code",
   "execution_count": 5,
   "metadata": {},
   "outputs": [
    {
     "output_type": "execute_result",
     "data": {
      "text/plain": [
       "1.99"
      ]
     },
     "metadata": {},
     "execution_count": 5
    }
   ],
   "source": [
    "weather_response[\"wind\"][\"speed\"]"
   ]
  },
  {
   "cell_type": "code",
   "execution_count": 20,
   "metadata": {},
   "outputs": [
    {
     "output_type": "stream",
     "name": "stdout",
     "text": [
      "No City Data Found for taolanaro\n",
      "No City Data Found for palabuhanratu\n",
      "No City Data Found for samalaeulu\n",
      "No City Data Found for viligili\n",
      "No City Data Found for tsihombe\n",
      "No City Data Found for belushya guba\n",
      "No City Data Found for jarjis\n",
      "No City Data Found for babanusah\n",
      "No City Data Found for karkaralinsk\n",
      "No City Data Found for samusu\n",
      "No City Data Found for amderma\n",
      "No City Data Found for bargal\n"
     ]
    },
    {
     "output_type": "execute_result",
     "data": {
      "text/plain": [
       "{'coord': {'lon': 169.85, 'lat': -46.28},\n",
       " 'weather': [{'id': 804,\n",
       "   'main': 'Clouds',\n",
       "   'description': 'overcast clouds',\n",
       "   'icon': '04n'}],\n",
       " 'base': 'stations',\n",
       " 'main': {'temp': 284.82,\n",
       "  'feels_like': 283.86,\n",
       "  'temp_min': 284.82,\n",
       "  'temp_max': 284.82,\n",
       "  'pressure': 1013,\n",
       "  'humidity': 81},\n",
       " 'visibility': 10000,\n",
       " 'wind': {'speed': 0.89, 'deg': 0, 'gust': 3.13},\n",
       " 'clouds': {'all': 100},\n",
       " 'dt': 1608221551,\n",
       " 'sys': {'type': 3,\n",
       "  'id': 2000217,\n",
       "  'country': 'NZ',\n",
       "  'sunrise': 1608223423,\n",
       "  'sunset': 1608280238},\n",
       " 'timezone': 46800,\n",
       " 'id': 2208248,\n",
       " 'name': 'Kaitangata',\n",
       " 'cod': 200}"
      ]
     },
     "metadata": {},
     "execution_count": 20
    }
   ],
   "source": [
    "cities_results = []\n",
    "\n",
    "for index,city in enumerate(cities):\n",
    "    \n",
    "    base_url = \"http://api.openweathermap.org/data/2.5/weather?\"\n",
    "    query_url = f\"{base_url}appid={weather_api_key}&q={city}\"\n",
    "\n",
    "    try:\n",
    "        # Get weather data\n",
    "        weather_response = requests.get(query_url).json()\n",
    "        lon=weather_response[\"coord\"][\"lon\"]\n",
    "        lat=weather_response[\"coord\"][\"lat\"]\n",
    "        cities_results.append(weather_response)\n",
    "    except:\n",
    "        print(f\"No City Data Found for {city}\")\n",
    "\n",
    "(cities_results[0])\n"
   ]
  },
  {
   "cell_type": "markdown",
   "metadata": {},
   "source": [
    "### Convert Raw Data to DataFrame\n",
    "* Export the city data into a .csv.\n",
    "* Display the DataFrame"
   ]
  },
  {
   "cell_type": "code",
   "execution_count": 54,
   "metadata": {},
   "outputs": [],
   "source": [
    "city_data = []\n",
    "for i,city in enumerate(cities_results):\n",
    "    citytemp = city[\"main\"][\"temp\"]\n",
    "    citylat = city[\"coord\"][\"lat\"]\n",
    "    cityhum = city[\"main\"][\"humidity\"]\n",
    "    citycloud = city[\"clouds\"][\"all\"]\n",
    "    citywind = city[\"wind\"][\"speed\"]\n",
    "    \n",
    "    city_data.append({\"Temperature\": citytemp,\n",
    "    \"Latitude\": citylat,\n",
    "    \"Humidity\" : cityhum,\n",
    "    \"Cloudiness\" : citycloud,\n",
    "    \"Wind Speed\" : citywind\n",
    "    })\n",
    "        \n",
    "    \n",
    "    "
   ]
  },
  {
   "cell_type": "code",
   "execution_count": 55,
   "metadata": {},
   "outputs": [],
   "source": [
    "df = pd.DataFrame(city_data)"
   ]
  },
  {
   "cell_type": "code",
   "execution_count": 56,
   "metadata": {},
   "outputs": [
    {
     "output_type": "execute_result",
     "data": {
      "text/plain": [
       "    Temperature  Latitude  Humidity  Cloudiness  Wind Speed\n",
       "0        284.82    -46.28        81         100        0.89\n",
       "1        283.06     37.80        87          75        3.10\n",
       "2        240.36     71.97        82           1        3.51\n",
       "3        280.15    -54.80        70          75       17.50\n",
       "4        260.32     69.70        91          33        5.50\n",
       "..          ...       ...       ...         ...         ...\n",
       "83       288.15    -29.95        82          90        4.60\n",
       "84       281.05     40.60       100          90        2.60\n",
       "85       296.15    -24.87        88           0        7.70\n",
       "86       294.41     -5.06        87         100        1.74\n",
       "87       301.63     -2.57        75         100        3.91\n",
       "\n",
       "[88 rows x 5 columns]"
      ],
      "text/html": "<div>\n<style scoped>\n    .dataframe tbody tr th:only-of-type {\n        vertical-align: middle;\n    }\n\n    .dataframe tbody tr th {\n        vertical-align: top;\n    }\n\n    .dataframe thead th {\n        text-align: right;\n    }\n</style>\n<table border=\"1\" class=\"dataframe\">\n  <thead>\n    <tr style=\"text-align: right;\">\n      <th></th>\n      <th>Temperature</th>\n      <th>Latitude</th>\n      <th>Humidity</th>\n      <th>Cloudiness</th>\n      <th>Wind Speed</th>\n    </tr>\n  </thead>\n  <tbody>\n    <tr>\n      <th>0</th>\n      <td>284.82</td>\n      <td>-46.28</td>\n      <td>81</td>\n      <td>100</td>\n      <td>0.89</td>\n    </tr>\n    <tr>\n      <th>1</th>\n      <td>283.06</td>\n      <td>37.80</td>\n      <td>87</td>\n      <td>75</td>\n      <td>3.10</td>\n    </tr>\n    <tr>\n      <th>2</th>\n      <td>240.36</td>\n      <td>71.97</td>\n      <td>82</td>\n      <td>1</td>\n      <td>3.51</td>\n    </tr>\n    <tr>\n      <th>3</th>\n      <td>280.15</td>\n      <td>-54.80</td>\n      <td>70</td>\n      <td>75</td>\n      <td>17.50</td>\n    </tr>\n    <tr>\n      <th>4</th>\n      <td>260.32</td>\n      <td>69.70</td>\n      <td>91</td>\n      <td>33</td>\n      <td>5.50</td>\n    </tr>\n    <tr>\n      <th>...</th>\n      <td>...</td>\n      <td>...</td>\n      <td>...</td>\n      <td>...</td>\n      <td>...</td>\n    </tr>\n    <tr>\n      <th>83</th>\n      <td>288.15</td>\n      <td>-29.95</td>\n      <td>82</td>\n      <td>90</td>\n      <td>4.60</td>\n    </tr>\n    <tr>\n      <th>84</th>\n      <td>281.05</td>\n      <td>40.60</td>\n      <td>100</td>\n      <td>90</td>\n      <td>2.60</td>\n    </tr>\n    <tr>\n      <th>85</th>\n      <td>296.15</td>\n      <td>-24.87</td>\n      <td>88</td>\n      <td>0</td>\n      <td>7.70</td>\n    </tr>\n    <tr>\n      <th>86</th>\n      <td>294.41</td>\n      <td>-5.06</td>\n      <td>87</td>\n      <td>100</td>\n      <td>1.74</td>\n    </tr>\n    <tr>\n      <th>87</th>\n      <td>301.63</td>\n      <td>-2.57</td>\n      <td>75</td>\n      <td>100</td>\n      <td>3.91</td>\n    </tr>\n  </tbody>\n</table>\n<p>88 rows × 5 columns</p>\n</div>"
     },
     "metadata": {},
     "execution_count": 56
    }
   ],
   "source": [
    "df.head()"
   ]
  },
  {
   "cell_type": "code",
   "execution_count": 64,
   "metadata": {},
   "outputs": [],
   "source": [
    "df_final =pd.DataFrame()\n",
    "for i,city in enumerate(cities_results):\n",
    "    citytemp = city[\"main\"][\"temp\"]\n",
    "    citylat = city[\"coord\"][\"lat\"]\n",
    "    cityhum = city[\"main\"][\"humidity\"]\n",
    "    citycloud = city[\"clouds\"][\"all\"]\n",
    "    citywind = city[\"wind\"][\"speed\"]\n",
    "    \n",
    "    temp= pd.DataFrame({\"Temperature\": citytemp,\n",
    "    \"Latitude\": [citylat],\n",
    "    \"Humidity\" : [cityhum],\n",
    "    \"Cloudiness\" : [citycloud],\n",
    "    \"Wind Speed\" : [citywind]\n",
    "    })\n",
    "\n",
    "    if i==0:\n",
    "        df_final=temp\n",
    "    else:\n",
    "        df.append(temp)"
   ]
  },
  {
   "cell_type": "code",
   "execution_count": 65,
   "metadata": {},
   "outputs": [
    {
     "output_type": "execute_result",
     "data": {
      "text/plain": [
       "    Temperature  Latitude  Humidity  Cloudiness  Wind Speed\n",
       "0        284.82    -46.28        81         100        0.89\n",
       "1        283.06     37.80        87          75        3.10\n",
       "2        240.36     71.97        82           1        3.51\n",
       "3        280.15    -54.80        70          75       17.50\n",
       "4        260.32     69.70        91          33        5.50\n",
       "..          ...       ...       ...         ...         ...\n",
       "83       288.15    -29.95        82          90        4.60\n",
       "84       281.05     40.60       100          90        2.60\n",
       "85       296.15    -24.87        88           0        7.70\n",
       "86       294.41     -5.06        87         100        1.74\n",
       "87       301.63     -2.57        75         100        3.91\n",
       "\n",
       "[88 rows x 5 columns]"
      ],
      "text/html": "<div>\n<style scoped>\n    .dataframe tbody tr th:only-of-type {\n        vertical-align: middle;\n    }\n\n    .dataframe tbody tr th {\n        vertical-align: top;\n    }\n\n    .dataframe thead th {\n        text-align: right;\n    }\n</style>\n<table border=\"1\" class=\"dataframe\">\n  <thead>\n    <tr style=\"text-align: right;\">\n      <th></th>\n      <th>Temperature</th>\n      <th>Latitude</th>\n      <th>Humidity</th>\n      <th>Cloudiness</th>\n      <th>Wind Speed</th>\n    </tr>\n  </thead>\n  <tbody>\n    <tr>\n      <th>0</th>\n      <td>284.82</td>\n      <td>-46.28</td>\n      <td>81</td>\n      <td>100</td>\n      <td>0.89</td>\n    </tr>\n    <tr>\n      <th>1</th>\n      <td>283.06</td>\n      <td>37.80</td>\n      <td>87</td>\n      <td>75</td>\n      <td>3.10</td>\n    </tr>\n    <tr>\n      <th>2</th>\n      <td>240.36</td>\n      <td>71.97</td>\n      <td>82</td>\n      <td>1</td>\n      <td>3.51</td>\n    </tr>\n    <tr>\n      <th>3</th>\n      <td>280.15</td>\n      <td>-54.80</td>\n      <td>70</td>\n      <td>75</td>\n      <td>17.50</td>\n    </tr>\n    <tr>\n      <th>4</th>\n      <td>260.32</td>\n      <td>69.70</td>\n      <td>91</td>\n      <td>33</td>\n      <td>5.50</td>\n    </tr>\n    <tr>\n      <th>...</th>\n      <td>...</td>\n      <td>...</td>\n      <td>...</td>\n      <td>...</td>\n      <td>...</td>\n    </tr>\n    <tr>\n      <th>83</th>\n      <td>288.15</td>\n      <td>-29.95</td>\n      <td>82</td>\n      <td>90</td>\n      <td>4.60</td>\n    </tr>\n    <tr>\n      <th>84</th>\n      <td>281.05</td>\n      <td>40.60</td>\n      <td>100</td>\n      <td>90</td>\n      <td>2.60</td>\n    </tr>\n    <tr>\n      <th>85</th>\n      <td>296.15</td>\n      <td>-24.87</td>\n      <td>88</td>\n      <td>0</td>\n      <td>7.70</td>\n    </tr>\n    <tr>\n      <th>86</th>\n      <td>294.41</td>\n      <td>-5.06</td>\n      <td>87</td>\n      <td>100</td>\n      <td>1.74</td>\n    </tr>\n    <tr>\n      <th>87</th>\n      <td>301.63</td>\n      <td>-2.57</td>\n      <td>75</td>\n      <td>100</td>\n      <td>3.91</td>\n    </tr>\n  </tbody>\n</table>\n<p>88 rows × 5 columns</p>\n</div>"
     },
     "metadata": {},
     "execution_count": 65
    }
   ],
   "source": [
    "df"
   ]
  },
  {
   "cell_type": "code",
   "execution_count": null,
   "metadata": {},
   "outputs": [],
   "source": []
  },
  {
   "cell_type": "code",
   "execution_count": null,
   "metadata": {},
   "outputs": [],
   "source": []
  },
  {
   "cell_type": "code",
   "execution_count": null,
   "metadata": {},
   "outputs": [],
   "source": []
  },
  {
   "source": [],
   "cell_type": "markdown",
   "metadata": {}
  },
  {
   "cell_type": "markdown",
   "metadata": {},
   "source": [
    "## Inspect the data and remove the cities where the humidity > 100%.\n",
    "----\n",
    "Skip this step if there are no cities that have humidity > 100%. "
   ]
  },
  {
   "cell_type": "code",
   "execution_count": null,
   "metadata": {},
   "outputs": [],
   "source": []
  },
  {
   "cell_type": "code",
   "execution_count": 9,
   "metadata": {},
   "outputs": [],
   "source": [
    "#  Get the indices of cities that have humidity over 100%.\n"
   ]
  },
  {
   "cell_type": "code",
   "execution_count": 10,
   "metadata": {},
   "outputs": [],
   "source": [
    "# Make a new DataFrame equal to the city data to drop all humidity outliers by index.\n",
    "# Passing \"inplace=False\" will make a copy of the city_data DataFrame, which we call \"clean_city_data\".\n"
   ]
  },
  {
   "cell_type": "code",
   "execution_count": 10,
   "metadata": {},
   "outputs": [],
   "source": [
    "\n"
   ]
  },
  {
   "cell_type": "markdown",
   "metadata": {},
   "source": [
    "## Plotting the Data\n",
    "* Use proper labeling of the plots using plot titles (including date of analysis) and axes labels.\n",
    "* Save the plotted figures as .pngs."
   ]
  },
  {
   "cell_type": "markdown",
   "metadata": {},
   "source": [
    "## Latitude vs. Temperature Plot"
   ]
  },
  {
   "cell_type": "code",
   "execution_count": null,
   "metadata": {
    "scrolled": true
   },
   "outputs": [],
   "source": []
  },
  {
   "cell_type": "markdown",
   "metadata": {},
   "source": [
    "## Latitude vs. Humidity Plot"
   ]
  },
  {
   "cell_type": "code",
   "execution_count": null,
   "metadata": {},
   "outputs": [],
   "source": []
  },
  {
   "cell_type": "markdown",
   "metadata": {},
   "source": [
    "## Latitude vs. Cloudiness Plot"
   ]
  },
  {
   "cell_type": "code",
   "execution_count": null,
   "metadata": {},
   "outputs": [],
   "source": []
  },
  {
   "cell_type": "markdown",
   "metadata": {},
   "source": [
    "## Latitude vs. Wind Speed Plot"
   ]
  },
  {
   "cell_type": "code",
   "execution_count": null,
   "metadata": {},
   "outputs": [],
   "source": []
  },
  {
   "cell_type": "markdown",
   "metadata": {},
   "source": [
    "## Linear Regression"
   ]
  },
  {
   "cell_type": "code",
   "execution_count": null,
   "metadata": {},
   "outputs": [],
   "source": []
  },
  {
   "cell_type": "markdown",
   "metadata": {},
   "source": [
    "####  Northern Hemisphere - Max Temp vs. Latitude Linear Regression"
   ]
  },
  {
   "cell_type": "code",
   "execution_count": null,
   "metadata": {},
   "outputs": [],
   "source": []
  },
  {
   "cell_type": "markdown",
   "metadata": {},
   "source": [
    "####  Southern Hemisphere - Max Temp vs. Latitude Linear Regression"
   ]
  },
  {
   "cell_type": "code",
   "execution_count": null,
   "metadata": {},
   "outputs": [],
   "source": []
  },
  {
   "cell_type": "markdown",
   "metadata": {},
   "source": [
    "####  Northern Hemisphere - Humidity (%) vs. Latitude Linear Regression"
   ]
  },
  {
   "cell_type": "code",
   "execution_count": null,
   "metadata": {},
   "outputs": [],
   "source": []
  },
  {
   "cell_type": "markdown",
   "metadata": {},
   "source": [
    "####  Southern Hemisphere - Humidity (%) vs. Latitude Linear Regression"
   ]
  },
  {
   "cell_type": "code",
   "execution_count": null,
   "metadata": {},
   "outputs": [],
   "source": []
  },
  {
   "cell_type": "markdown",
   "metadata": {},
   "source": [
    "####  Northern Hemisphere - Cloudiness (%) vs. Latitude Linear Regression"
   ]
  },
  {
   "cell_type": "code",
   "execution_count": null,
   "metadata": {},
   "outputs": [],
   "source": []
  },
  {
   "cell_type": "markdown",
   "metadata": {},
   "source": [
    "####  Southern Hemisphere - Cloudiness (%) vs. Latitude Linear Regression"
   ]
  },
  {
   "cell_type": "code",
   "execution_count": null,
   "metadata": {},
   "outputs": [],
   "source": []
  },
  {
   "cell_type": "markdown",
   "metadata": {},
   "source": [
    "####  Northern Hemisphere - Wind Speed (mph) vs. Latitude Linear Regression"
   ]
  },
  {
   "cell_type": "code",
   "execution_count": null,
   "metadata": {},
   "outputs": [],
   "source": []
  },
  {
   "cell_type": "markdown",
   "metadata": {},
   "source": [
    "####  Southern Hemisphere - Wind Speed (mph) vs. Latitude Linear Regression"
   ]
  },
  {
   "cell_type": "code",
   "execution_count": null,
   "metadata": {},
   "outputs": [],
   "source": []
  },
  {
   "cell_type": "code",
   "execution_count": null,
   "metadata": {},
   "outputs": [],
   "source": []
  }
 ],
 "metadata": {
  "anaconda-cloud": {},
  "kernel_info": {
   "name": "python3"
  },
  "kernelspec": {
   "display_name": "Python 3",
   "language": "python",
   "name": "python3"
  },
  "language_info": {
   "codemirror_mode": {
    "name": "ipython",
    "version": 3
   },
   "file_extension": ".py",
   "mimetype": "text/x-python",
   "name": "python",
   "nbconvert_exporter": "python",
   "pygments_lexer": "ipython3",
   "version": "3.7.9-final"
  },
  "latex_envs": {
   "LaTeX_envs_menu_present": true,
   "autoclose": false,
   "autocomplete": true,
   "bibliofile": "biblio.bib",
   "cite_by": "apalike",
   "current_citInitial": 1,
   "eqLabelWithNumbers": true,
   "eqNumInitial": 1,
   "hotkeys": {
    "equation": "Ctrl-E",
    "itemize": "Ctrl-I"
   },
   "labels_anchors": false,
   "latex_user_defs": false,
   "report_style_numbering": false,
   "user_envs_cfg": false
  },
  "nteract": {
   "version": "0.12.3"
  }
 },
 "nbformat": 4,
 "nbformat_minor": 2
}